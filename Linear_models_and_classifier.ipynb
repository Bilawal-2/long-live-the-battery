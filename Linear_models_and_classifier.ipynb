{
 "cells": [
  {
   "cell_type": "markdown",
   "metadata": {},
   "source": [
    "# Linear Models"
   ]
  },
  {
   "cell_type": "markdown",
   "metadata": {},
   "source": [
    "## Load data"
   ]
  },
  {
   "cell_type": "code",
   "execution_count": 5,
   "metadata": {},
   "outputs": [],
   "source": [
    "import numpy as np\n",
    "import matplotlib.pyplot as plt\n",
    "import pickle\n",
    "from pathlib import Path"
   ]
  },
  {
   "cell_type": "code",
   "execution_count": 6,
   "metadata": {},
   "outputs": [],
   "source": [
    "path1 = Path(\"Data/batch1.pkl\")\n",
    "batch1 = pickle.load(open(path1, 'rb'))\n",
    "\n",
    "#remove batteries that do not reach 80% capacity\n",
    "del batch1['b1c8']\n",
    "del batch1['b1c10']\n",
    "del batch1['b1c12']\n",
    "del batch1['b1c13']\n",
    "del batch1['b1c22']"
   ]
  },
  {
   "cell_type": "code",
   "execution_count": 7,
   "metadata": {},
   "outputs": [],
   "source": [
    "path2 = Path(\"Data/batch2.pkl\")\n",
    "batch2 = pickle.load(open(path2, 'rb'))\n",
    "\n",
    "# There are four cells from batch1 that carried into batch2, we'll remove the data from batch2\n",
    "# and put it with the correct cell from batch1\n",
    "batch2_keys = ['b2c7', 'b2c8', 'b2c9', 'b2c15', 'b2c16']\n",
    "batch1_keys = ['b1c0', 'b1c1', 'b1c2', 'b1c3', 'b1c4']\n",
    "add_len = [662, 981, 1060, 208, 482];"
   ]
  },
  {
   "cell_type": "code",
   "execution_count": 8,
   "metadata": {},
   "outputs": [],
   "source": [
    "for i, bk in enumerate(batch1_keys):\n",
    "    batch1[bk]['cycle_life'] = batch1[bk]['cycle_life'] + add_len[i]\n",
    "    for j in batch1[bk]['summary'].keys():\n",
    "        if j == 'cycle':\n",
    "            batch1[bk]['summary'][j] = np.hstack((batch1[bk]['summary'][j], batch2[batch2_keys[i]]['summary'][j] + len(batch1[bk]['summary'][j])))\n",
    "        else:\n",
    "            batch1[bk]['summary'][j] = np.hstack((batch1[bk]['summary'][j], batch2[batch2_keys[i]]['summary'][j]))\n",
    "    last_cycle = len(batch1[bk]['cycles'].keys())\n",
    "    for j, jk in enumerate(batch2[batch2_keys[i]]['cycles'].keys()):\n",
    "        batch1[bk]['cycles'][str(last_cycle + j)] = batch2[batch2_keys[i]]['cycles'][jk]"
   ]
  },
  {
   "cell_type": "code",
   "execution_count": 9,
   "metadata": {},
   "outputs": [],
   "source": [
    "del batch2['b2c7']\n",
    "del batch2['b2c8']\n",
    "del batch2['b2c9']\n",
    "del batch2['b2c15']\n",
    "del batch2['b2c16']"
   ]
  },
  {
   "cell_type": "code",
   "execution_count": 10,
   "metadata": {},
   "outputs": [],
   "source": [
    "path3 = Path(\"Data/batch3.pkl\")\n",
    "batch3 = pickle.load(open(path3, 'rb'))\n",
    "\n",
    "# remove noisy channels from batch3\n",
    "del batch3['b3c37']\n",
    "del batch3['b3c2']\n",
    "del batch3['b3c23']\n",
    "del batch3['b3c32']\n",
    "del batch3['b3c38']\n",
    "del batch3['b3c39']"
   ]
  },
  {
   "cell_type": "code",
   "execution_count": 11,
   "metadata": {},
   "outputs": [],
   "source": [
    "bat_dict = {**batch1, **batch2, **batch3}"
   ]
  },
  {
   "cell_type": "code",
   "execution_count": 12,
   "metadata": {},
   "outputs": [],
   "source": [
    "numBat1 = len(batch1.keys())\n",
    "numBat2 = len(batch2.keys())\n",
    "numBat3 = len(batch3.keys())\n",
    "numBat = numBat1 + numBat2 + numBat3\n",
    "\n",
    "\n",
    "test_ind = np.hstack((np.arange(0,(numBat1+numBat2),2),83))\n",
    "train_ind = np.arange(1,(numBat1+numBat2-1),2)\n",
    "secondary_test_ind = np.arange(numBat-numBat3,numBat);"
   ]
  },
  {
   "cell_type": "markdown",
   "metadata": {},
   "source": [
    "## Linear Models"
   ]
  },
  {
   "cell_type": "code",
   "execution_count": 86,
   "metadata": {},
   "outputs": [],
   "source": [
    "import pandas as pd\n",
    "from sklearn.linear_model import ElasticNet, LinearRegression\n",
    "from sklearn.model_selection import GridSearchCV\n",
    "from sklearn.metrics import mean_squared_error"
   ]
  },
  {
   "cell_type": "code",
   "execution_count": 150,
   "metadata": {},
   "outputs": [],
   "source": [
    "# create dataframe with Delta Qdlin and cycles as features\n",
    "variances = np.array([])\n",
    "cycle_life = np.array([])\n",
    "for cell in bat_dict.values():\n",
    "    c10 = cell['cycles']['10']\n",
    "    c100 = cell['cycles']['100']\n",
    "    dQ_100_10 = c100['Qdlin'] - c10['Qdlin']\n",
    "    variances = np.append(variances, np.log(np.var(dQ_100_10)))\n",
    "    cycle_life = np.append(cycle_life, cell[\"cycle_life\"])\n",
    "\n",
    "df = pd.DataFrame({\"Delta_Qd_100_10_log_variance\": variances, \n",
    "                   \"cycles\": cycle_life})"
   ]
  },
  {
   "cell_type": "code",
   "execution_count": 151,
   "metadata": {
    "scrolled": true
   },
   "outputs": [
    {
     "data": {
      "text/html": [
       "<div>\n",
       "<style scoped>\n",
       "    .dataframe tbody tr th:only-of-type {\n",
       "        vertical-align: middle;\n",
       "    }\n",
       "\n",
       "    .dataframe tbody tr th {\n",
       "        vertical-align: top;\n",
       "    }\n",
       "\n",
       "    .dataframe thead th {\n",
       "        text-align: right;\n",
       "    }\n",
       "</style>\n",
       "<table border=\"1\" class=\"dataframe\">\n",
       "  <thead>\n",
       "    <tr style=\"text-align: right;\">\n",
       "      <th></th>\n",
       "      <th>Delta_Qd_100_10_log_variance</th>\n",
       "      <th>cycles</th>\n",
       "    </tr>\n",
       "  </thead>\n",
       "  <tbody>\n",
       "    <tr>\n",
       "      <th>0</th>\n",
       "      <td>-11.631570</td>\n",
       "      <td>1852.0</td>\n",
       "    </tr>\n",
       "    <tr>\n",
       "      <th>1</th>\n",
       "      <td>-11.825562</td>\n",
       "      <td>2160.0</td>\n",
       "    </tr>\n",
       "    <tr>\n",
       "      <th>2</th>\n",
       "      <td>-11.402131</td>\n",
       "      <td>2237.0</td>\n",
       "    </tr>\n",
       "    <tr>\n",
       "      <th>3</th>\n",
       "      <td>-10.099939</td>\n",
       "      <td>1434.0</td>\n",
       "    </tr>\n",
       "    <tr>\n",
       "      <th>4</th>\n",
       "      <td>-10.602896</td>\n",
       "      <td>1709.0</td>\n",
       "    </tr>\n",
       "  </tbody>\n",
       "</table>\n",
       "</div>"
      ],
      "text/plain": [
       "   Delta_Qd_100_10_log_variance  cycles\n",
       "0                    -11.631570  1852.0\n",
       "1                    -11.825562  2160.0\n",
       "2                    -11.402131  2237.0\n",
       "3                    -10.099939  1434.0\n",
       "4                    -10.602896  1709.0"
      ]
     },
     "execution_count": 151,
     "metadata": {},
     "output_type": "execute_result"
    }
   ],
   "source": [
    "df.head()"
   ]
  },
  {
   "cell_type": "code",
   "execution_count": 152,
   "metadata": {},
   "outputs": [],
   "source": [
    "varmod_features = [\"Delta_Qd_100_10_log_variance\"]\n",
    "dismod_features = [\"...\"]\n",
    "fullmod_features = [\"...\"]"
   ]
  },
  {
   "cell_type": "markdown",
   "metadata": {},
   "source": [
    "# Variance Model"
   ]
  },
  {
   "cell_type": "code",
   "execution_count": null,
   "metadata": {},
   "outputs": [],
   "source": [
    "# ========================================"
   ]
  },
  {
   "cell_type": "code",
   "execution_count": 192,
   "metadata": {},
   "outputs": [],
   "source": [
    "def get_split(data, features, split):\n",
    "    X = data.iloc[split,:].loc[:,features]\n",
    "    y = data.iloc[split,-1:]\n",
    "    return X, y\n",
    "\n",
    "def eval_model(model, data, splits, features):\n",
    "    rmse = list()\n",
    "    mpe = list()\n",
    "    for split in splits:\n",
    "        X, y = get_split(data, features, split)\n",
    "        pred = model.predict(X)\n",
    "        rmse.append(np.sqrt(mean_squared_error(pred, y)))\n",
    "        mpe.append(float(np.mean(np.abs((y - pred.reshape(-1,1))) / y * 100)))\n",
    "    return rmse, mpe"
   ]
  },
  {
   "cell_type": "code",
   "execution_count": 189,
   "metadata": {},
   "outputs": [],
   "source": [
    "# Train the model\n",
    "x_train, y_train = get_split(df, varmod_features, train_ind)\n",
    "\n",
    "alphas = np.linspace(0.0001,1,30)\n",
    "parameters = {\n",
    "    \"alpha\": alphas,\n",
    "    \"l1_ratio\": [0.01, 0.25, 0.5, 0.75, 1.]\n",
    "}\n",
    "enet = ElasticNet(random_state=54)\n",
    "regr = GridSearchCV(enet, parameters, cv=4, iid=False)\n",
    "regr.fit(x_train, y_train).score(x_train, y_train)"
   ]
  },
  {
   "cell_type": "code",
   "execution_count": 195,
   "metadata": {},
   "outputs": [],
   "source": [
    "# get RMSE and MPE to compare with paper results\n",
    "splits = [train_ind, test_ind, secondary_test_ind]\n",
    "varmod_rmse, varmod_mpe = eval_model(regr, df, splits, varmod_features)"
   ]
  },
  {
   "cell_type": "code",
   "execution_count": null,
   "metadata": {},
   "outputs": [],
   "source": [
    "# =========================================="
   ]
  },
  {
   "cell_type": "code",
   "execution_count": 154,
   "metadata": {},
   "outputs": [],
   "source": [
    "# Define train and two test sets for Variance model\n",
    "x_train = df.iloc[train_ind,:].loc[:,varmod_features]\n",
    "y_train = df.iloc[train_ind,-1:]\n",
    "x_test = df.iloc[test_ind,;].loc[:,varmod_features]\n",
    "y_test = df.iloc[test_ind,-1:]\n",
    "x_test_sec = df.iloc[secondary_test_ind,:].loc[:,varmod_features]\n",
    "y_test_sec = df.iloc[secondary_test_ind,-1:]"
   ]
  },
  {
   "cell_type": "code",
   "execution_count": 155,
   "metadata": {},
   "outputs": [
    {
     "data": {
      "text/plain": [
       "0.7787713570570229"
      ]
     },
     "execution_count": 155,
     "metadata": {},
     "output_type": "execute_result"
    }
   ],
   "source": [
    "# train elastic net on variance model\n",
    "alphas = np.linspace(0.0001,1,30)\n",
    "parameters = {\n",
    "    \"alpha\": alphas,\n",
    "    \"l1_ratio\": [0.01, 0.25, 0.5, 0.75, 1.]\n",
    "}\n",
    "enet = ElasticNet(random_state=54)\n",
    "regr = GridSearchCV(enet, parameters, cv=4, iid=False)\n",
    "regr.fit(x_train, y_train).score(x_train, y_train)"
   ]
  },
  {
   "cell_type": "code",
   "execution_count": 156,
   "metadata": {},
   "outputs": [
    {
     "data": {
      "text/plain": [
       "0.779697297534494"
      ]
     },
     "execution_count": 156,
     "metadata": {},
     "output_type": "execute_result"
    }
   ],
   "source": [
    "# because elastic net does not work well with a small alpha,\n",
    "# we also train a linear regression to see if it performs better\n",
    "# > it actually does, so we use lin_reg for the \"Variance model\"\n",
    "lin_reg = LinearRegression()\n",
    "lin_reg.fit(x_train, y_train).score(x_train, y_train)"
   ]
  },
  {
   "cell_type": "code",
   "execution_count": 158,
   "metadata": {
    "collapsed": true
   },
   "outputs": [
    {
     "data": {
      "image/png": "[encoded data removed]",
      "text/plain": [
       "<Figure size 720x720 with 4 Axes>"
      ]
     },
     "metadata": {
      "needs_background": "light"
     },
     "output_type": "display_data"
    }
   ],
   "source": [
    "fig, ax = plt.subplots(4, sharex=True, figsize=(10,10))\n",
    "pred_train = lin_reg.predict(x_train)\n",
    "ax[0].scatter(x_train, y_train)\n",
    "ax[0].plot(x_train, pred_train, color=\"red\")\n",
    "ax[0].set_title(\"Predictions on train set\")\n",
    "pred_test = lin_reg.predict(x_test)\n",
    "ax[1].scatter(x_test, y_test)\n",
    "ax[1].plot(x_test, pred_test, color=\"red\")\n",
    "ax[1].set_title(\"Predictions on test set\")\n",
    "pred_test_sec = lin_reg.predict(x_test_sec)\n",
    "ax[2].scatter(x_test_sec, y_test_sec)\n",
    "ax[2].plot(x_test_sec, pred_test_sec, color=\"red\")\n",
    "ax[2].set_title(\"Predictions on secondary test set\")\n",
    "pred_all = lin_reg.predict(df.loc[:,varmod_features])\n",
    "ax[3].scatter(df.loc[:,varmod_features], df.iloc[:,-1])\n",
    "ax[3].plot(df.loc[:,varmod_features], pred_all, color=\"red\")\n",
    "ax[3].set_title(\"Predictions on all batteries\")\n",
    "plt.show()"
   ]
  },
  {
   "cell_type": "code",
   "execution_count": 42,
   "metadata": {},
   "outputs": [],
   "source": [
    "# Get metrics for Variance model\n",
    "varmod_rmse_train = np.sqrt(mean_squared_error(\n",
    "                lin_reg.predict(x_train), y_train))\n",
    "varmod_rmse_test = np.sqrt(mean_squared_error(\n",
    "                lin_reg.predict(x_test), y_test))\n",
    "varmod_rmse_test_sec = np.sqrt(mean_squared_error(\n",
    "                lin_reg.predict(x_test_sec), y_test_sec))\n",
    "\n",
    "# MPE definition: https://help.sap.com/doc/saphelp_scm700_ehp02/7.0.2/en-US/0b/a2ca53f1a1214be10000000a174cb4/content.htm?no_cache=true\n",
    "varmod_mpe_train = float(np.mean(np.abs((y_train - lin_reg.predict(x_train)\n",
    "                                   .reshape(-1,1))) / y_train * 100))\n",
    "varmod_mpe_test = float(np.mean(np.abs((y_test - lin_reg.predict(x_test)\n",
    "                                   .reshape(-1,1))) / y_test * 100))\n",
    "varmod_mpe_test_sec = float(np.mean(np.abs((y_test_sec - lin_reg.predict(x_test_sec)\n",
    "                                   .reshape(-1,1))) / y_test_sec * 100))"
   ]
  },
  {
   "cell_type": "code",
   "execution_count": null,
   "metadata": {},
   "outputs": [],
   "source": [
    "# Define train and two test sets for Discharge model\n",
    "x_train = df.iloc[train_ind,:].loc[:,dismod_features]\n",
    "y_train = df.iloc[train_ind,-1:]\n",
    "x_test = df.iloc[test_ind,;].loc[:,dismod_features]\n",
    "y_test = df.iloc[test_ind,-1:]\n",
    "x_test_sec = df.iloc[secondary_test_ind,:].loc[:,dismod_features]\n",
    "y_test_sec = df.iloc[secondary_test_ind,-1:]"
   ]
  },
  {
   "cell_type": "code",
   "execution_count": null,
   "metadata": {},
   "outputs": [],
   "source": [
    "# Get metrics for Discharge Model\n",
    "dismod_rmse_train = np.sqrt(mean_squared_error(\n",
    "                regr.predict(x_train), y_train))\n",
    "dismod_rmse_test = np.sqrt(mean_squared_error(\n",
    "                regr.predict(x_test), y_test))\n",
    "dismod_rmse_test_sec = np.sqrt(mean_squared_error(\n",
    "                regr.predict(x_test_sec), y_test_sec))\n",
    "\n",
    "# MPE definition: https://help.sap.com/doc/saphelp_scm700_ehp02/7.0.2/en-US/0b/a2ca53f1a1214be10000000a174cb4/content.htm?no_cache=true\n",
    "dismod_mpe_train = float(np.mean(np.abs((y_train - regr.predict(x_train)\n",
    "                                   .reshape(-1,1))) / y_train * 100))\n",
    "dismod_mpe_test = float(np.mean(np.abs((y_test - regr.predict(x_test)\n",
    "                                   .reshape(-1,1))) / y_test * 100))\n",
    "dismod_mpe_test_sec = float(np.mean(np.abs((y_test_sec - regr.predict(x_test_sec)\n",
    "                                   .reshape(-1,1))) / y_test_sec * 100))"
   ]
  },
  {
   "cell_type": "code",
   "execution_count": null,
   "metadata": {},
   "outputs": [],
   "source": []
  },
  {
   "cell_type": "code",
   "execution_count": 196,
   "metadata": {},
   "outputs": [
    {
     "data": {
      "text/html": [
       "<div>\n",
       "<style scoped>\n",
       "    .dataframe tbody tr th:only-of-type {\n",
       "        vertical-align: middle;\n",
       "    }\n",
       "\n",
       "    .dataframe tbody tr th {\n",
       "        vertical-align: top;\n",
       "    }\n",
       "\n",
       "    .dataframe thead th {\n",
       "        text-align: right;\n",
       "    }\n",
       "</style>\n",
       "<table border=\"1\" class=\"dataframe\">\n",
       "  <thead>\n",
       "    <tr style=\"text-align: right;\">\n",
       "      <th></th>\n",
       "      <th>Model</th>\n",
       "      <th>RMSE - Train</th>\n",
       "      <th>RMSE - Primary test</th>\n",
       "      <th>RMSE - Secondary test</th>\n",
       "      <th>MPE - Train</th>\n",
       "      <th>MPE - Primary test</th>\n",
       "      <th>MPE - Secondary test</th>\n",
       "    </tr>\n",
       "  </thead>\n",
       "  <tbody>\n",
       "    <tr>\n",
       "      <th>0</th>\n",
       "      <td>Variance model</td>\n",
       "      <td>151.983723</td>\n",
       "      <td>169.488406</td>\n",
       "      <td>184.342835</td>\n",
       "      <td>21.219173</td>\n",
       "      <td>21.783186</td>\n",
       "      <td>12.548031</td>\n",
       "    </tr>\n",
       "    <tr>\n",
       "      <th>1</th>\n",
       "      <td>Discharge model</td>\n",
       "      <td>0.000000</td>\n",
       "      <td>0.000000</td>\n",
       "      <td>0.000000</td>\n",
       "      <td>0.000000</td>\n",
       "      <td>0.000000</td>\n",
       "      <td>0.000000</td>\n",
       "    </tr>\n",
       "    <tr>\n",
       "      <th>2</th>\n",
       "      <td>Full model</td>\n",
       "      <td>0.000000</td>\n",
       "      <td>0.000000</td>\n",
       "      <td>0.000000</td>\n",
       "      <td>0.000000</td>\n",
       "      <td>0.000000</td>\n",
       "      <td>0.000000</td>\n",
       "    </tr>\n",
       "  </tbody>\n",
       "</table>\n",
       "</div>"
      ],
      "text/plain": [
       "             Model  RMSE - Train  RMSE - Primary test  RMSE - Secondary test  \\\n",
       "0   Variance model    151.983723           169.488406             184.342835   \n",
       "1  Discharge model      0.000000             0.000000               0.000000   \n",
       "2       Full model      0.000000             0.000000               0.000000   \n",
       "\n",
       "   MPE - Train  MPE - Primary test  MPE - Secondary test  \n",
       "0    21.219173           21.783186             12.548031  \n",
       "1     0.000000            0.000000              0.000000  \n",
       "2     0.000000            0.000000              0.000000  "
      ]
     },
     "execution_count": 196,
     "metadata": {},
     "output_type": "execute_result"
    }
   ],
   "source": [
    "df_metrics = pd.DataFrame({\"Model\":[\"Variance model\", \"Discharge model\", \"Full model\"],\n",
    "              \"RMSE - Train\": [varmod_rmse[0],0,0],\n",
    "              \"RMSE - Primary test\": [varmod_rmse[1],0,0],\n",
    "              \"RMSE - Secondary test\": [varmod_rmse[2],0,0],\n",
    "              \"MPE - Train\": [varmod_mpe[0],0,0],\n",
    "              \"MPE - Primary test\": [varmod_mpe[1],0,0],\n",
    "              \"MPE - Secondary test\": [varmod_mpe[2],0,0]})\n",
    "                                       \n",
    "                                       \n",
    "df_metrics"
   ]
  },
  {
   "cell_type": "markdown",
   "metadata": {},
   "source": [
    "# Classification Model"
   ]
  },
  {
   "cell_type": "code",
   "execution_count": 51,
   "metadata": {},
   "outputs": [],
   "source": [
    "from sklearn.linear_model import LogisticRegression\n",
    "from sklearn.metrics import accuracy_score"
   ]
  },
  {
   "cell_type": "code",
   "execution_count": 116,
   "metadata": {},
   "outputs": [],
   "source": [
    "# regularized logistic regression\n",
    "# Take the delta between cycles #5 and #4\n",
    "\n",
    "cycle_threshold = 550\n",
    "variances = np.array([])\n",
    "cycle_life = np.array([])\n",
    "cycles = np.array([])\n",
    "for cell in bat_dict.values():\n",
    "    c5 = cell['cycles']['5']\n",
    "    c4 = cell['cycles']['4']\n",
    "    dQ_5_4 = c5['Qdlin'] - c4['Qdlin']\n",
    "    variances = np.append(variances, np.log(np.var(dQ_5_4)))\n",
    "    cycles = np.append(cycles, cell[\"cycle_life\"])\n",
    "    cycle_life = np.append(cycle_life, cell[\"cycle_life\"]>=cycle_threshold)\n",
    "\n",
    "df = pd.DataFrame({\n",
    "            \"Delta_Qd_5_4_log_variance\": variances, \n",
    "            \"cycles\": cycles,\n",
    "            \"cycle_life\": cycle_life\n",
    "})"
   ]
  },
  {
   "cell_type": "code",
   "execution_count": 117,
   "metadata": {},
   "outputs": [],
   "source": [
    "# Define train and two test sets according to paper\n",
    "x_train = df.iloc[train_ind,:-2]\n",
    "y_train = df.iloc[train_ind,-1:]\n",
    "x_test = df.iloc[test_ind,:-2]\n",
    "y_test = df.iloc[test_ind,-1:]\n",
    "x_test_sec = df.iloc[secondary_test_ind,:-2]\n",
    "y_test_sec = df.iloc[secondary_test_ind,-1:]"
   ]
  },
  {
   "cell_type": "code",
   "execution_count": 118,
   "metadata": {},
   "outputs": [
    {
     "data": {
      "text/html": [
       "<div>\n",
       "<style scoped>\n",
       "    .dataframe tbody tr th:only-of-type {\n",
       "        vertical-align: middle;\n",
       "    }\n",
       "\n",
       "    .dataframe tbody tr th {\n",
       "        vertical-align: top;\n",
       "    }\n",
       "\n",
       "    .dataframe thead th {\n",
       "        text-align: right;\n",
       "    }\n",
       "</style>\n",
       "<table border=\"1\" class=\"dataframe\">\n",
       "  <thead>\n",
       "    <tr style=\"text-align: right;\">\n",
       "      <th></th>\n",
       "      <th>Delta_Qd_5_4_log_variance</th>\n",
       "      <th>cycles</th>\n",
       "      <th>cycle_life</th>\n",
       "    </tr>\n",
       "  </thead>\n",
       "  <tbody>\n",
       "    <tr>\n",
       "      <th>0</th>\n",
       "      <td>-14.096575</td>\n",
       "      <td>1852.0</td>\n",
       "      <td>1.0</td>\n",
       "    </tr>\n",
       "    <tr>\n",
       "      <th>1</th>\n",
       "      <td>-13.571824</td>\n",
       "      <td>2160.0</td>\n",
       "      <td>1.0</td>\n",
       "    </tr>\n",
       "    <tr>\n",
       "      <th>2</th>\n",
       "      <td>-13.341959</td>\n",
       "      <td>2237.0</td>\n",
       "      <td>1.0</td>\n",
       "    </tr>\n",
       "    <tr>\n",
       "      <th>3</th>\n",
       "      <td>-13.236720</td>\n",
       "      <td>1434.0</td>\n",
       "      <td>1.0</td>\n",
       "    </tr>\n",
       "    <tr>\n",
       "      <th>4</th>\n",
       "      <td>-14.212549</td>\n",
       "      <td>1709.0</td>\n",
       "      <td>1.0</td>\n",
       "    </tr>\n",
       "  </tbody>\n",
       "</table>\n",
       "</div>"
      ],
      "text/plain": [
       "   Delta_Qd_5_4_log_variance  cycles  cycle_life\n",
       "0                 -14.096575  1852.0         1.0\n",
       "1                 -13.571824  2160.0         1.0\n",
       "2                 -13.341959  2237.0         1.0\n",
       "3                 -13.236720  1434.0         1.0\n",
       "4                 -14.212549  1709.0         1.0"
      ]
     },
     "execution_count": 118,
     "metadata": {},
     "output_type": "execute_result"
    }
   ],
   "source": [
    "df.head()"
   ]
  },
  {
   "cell_type": "code",
   "execution_count": 130,
   "metadata": {},
   "outputs": [
    {
     "data": {
      "text/plain": [
       "0.8048780487804879"
      ]
     },
     "execution_count": 130,
     "metadata": {},
     "output_type": "execute_result"
    }
   ],
   "source": [
    "# train \"variance classifier\"\n",
    "parameters = {\"C\": [0.01,0.1,0.5,0.75,1]}\n",
    "logreg = LogisticRegression(solver=\"liblinear\", random_state=54)\n",
    "clf = GridSearchCV(logreg, parameters, cv=4, iid=False)\n",
    "clf.fit(x_train, y_train.values.ravel()).score(x_train, y_train.values.ravel())"
   ]
  },
  {
   "cell_type": "code",
   "execution_count": 143,
   "metadata": {},
   "outputs": [
    {
     "data": {
      "image/png": "[encoded data removed]",
      "text/plain": [
       "<Figure size 720x720 with 4 Axes>"
      ]
     },
     "metadata": {
      "needs_background": "light"
     },
     "output_type": "display_data"
    }
   ],
   "source": [
    "fig, ax = plt.subplots(4, sharex=True, figsize=(10,10))\n",
    "pred_train = clf.predict_proba(x_train)[:,1]\n",
    "ax[0].scatter(x_train, y_train)\n",
    "ax[0].plot(x_train, pred_train, color=\"red\")\n",
    "ax[0].set_title(\"Predictions on train set\")\n",
    "\n",
    "pred_test = clf.predict_proba(x_test)[:,1]\n",
    "ax[1].scatter(x_test, y_test)\n",
    "ax[1].plot(x_test, pred_test, color=\"red\")\n",
    "ax[1].set_title(\"Predictions on test set\")\n",
    "\n",
    "pred_test_sec = clf.predict_proba(x_test_sec)[:,1]\n",
    "ax[2].scatter(x_test_sec, y_test_sec)\n",
    "ax[2].plot(x_test_sec, pred_test_sec, color=\"red\")\n",
    "ax[2].set_title(\"Predictions on secondary test set\")\n",
    "\n",
    "pred_all = clf.predict_proba(df[\"Delta_Qd_5_4_log_variance\"][:,np.newaxis])[:,1]\n",
    "ax[3].scatter(df[\"Delta_Qd_5_4_log_variance\"], df[\"cycle_life\"])\n",
    "ax[3].plot(df[\"Delta_Qd_5_4_log_variance\"], pred_all, color=\"red\")\n",
    "ax[3].set_title(\"Predictions on all batteries\")\n",
    "plt.show()"
   ]
  },
  {
   "cell_type": "code",
   "execution_count": 55,
   "metadata": {},
   "outputs": [],
   "source": [
    "varclf_acc_train = accuracy_score(clf.predict(x_train), y_train.values.ravel())\n",
    "varclf_acc_test = accuracy_score(clf.predict(x_test), y_test.values.ravel())\n",
    "varclf_acc_test_sec = accuracy_score(clf.predict(x_test_sec), y_test_sec.values.ravel())"
   ]
  },
  {
   "cell_type": "code",
   "execution_count": 56,
   "metadata": {},
   "outputs": [
    {
     "data": {
      "text/html": [
       "<div>\n",
       "<style scoped>\n",
       "    .dataframe tbody tr th:only-of-type {\n",
       "        vertical-align: middle;\n",
       "    }\n",
       "\n",
       "    .dataframe tbody tr th {\n",
       "        vertical-align: top;\n",
       "    }\n",
       "\n",
       "    .dataframe thead th {\n",
       "        text-align: right;\n",
       "    }\n",
       "</style>\n",
       "<table border=\"1\" class=\"dataframe\">\n",
       "  <thead>\n",
       "    <tr style=\"text-align: right;\">\n",
       "      <th></th>\n",
       "      <th>Classifier</th>\n",
       "      <th>Acc - Train</th>\n",
       "      <th>Acc - Primary test</th>\n",
       "      <th>Acc - Secondary test</th>\n",
       "    </tr>\n",
       "  </thead>\n",
       "  <tbody>\n",
       "    <tr>\n",
       "      <th>0</th>\n",
       "      <td>Variance classifier</td>\n",
       "      <td>0.804878</td>\n",
       "      <td>0.767442</td>\n",
       "      <td>0.95</td>\n",
       "    </tr>\n",
       "    <tr>\n",
       "      <th>1</th>\n",
       "      <td>Full classifier</td>\n",
       "      <td>0.000000</td>\n",
       "      <td>0.000000</td>\n",
       "      <td>0.00</td>\n",
       "    </tr>\n",
       "  </tbody>\n",
       "</table>\n",
       "</div>"
      ],
      "text/plain": [
       "            Classifier  Acc - Train  Acc - Primary test  Acc - Secondary test\n",
       "0  Variance classifier     0.804878            0.767442                  0.95\n",
       "1      Full classifier     0.000000            0.000000                  0.00"
      ]
     },
     "execution_count": 56,
     "metadata": {},
     "output_type": "execute_result"
    }
   ],
   "source": [
    "df_metrics = pd.DataFrame({\"Classifier\":[\"Variance classifier\", \"Full classifier\"],\n",
    "              \"Acc - Train\": [varclf_acc_train,0],\n",
    "              \"Acc - Primary test\": [varclf_acc_test,0],\n",
    "              \"Acc - Secondary test\": [varclf_acc_test_sec,0]})                                  \n",
    "df_metrics"
   ]
  }
 ],
 "metadata": {
  "kernelspec": {
   "display_name": "Python 3",
   "language": "python",
   "name": "python3"
  },
  "language_info": {
   "codemirror_mode": {
    "name": "ipython",
    "version": 3
   },
   "file_extension": ".py",
   "mimetype": "text/x-python",
   "name": "python",
   "nbconvert_exporter": "python",
   "pygments_lexer": "ipython3",
   "version": "3.7.3"
  }
 },
 "nbformat": 4,
 "nbformat_minor": 2
}
