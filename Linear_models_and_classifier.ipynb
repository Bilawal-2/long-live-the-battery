{
 "cells": [
  {
   "cell_type": "markdown",
   "metadata": {},
   "source": [
    "## Linear Models"
   ]
  },
  {
   "cell_type": "code",
   "execution_count": 31,
   "metadata": {},
   "outputs": [],
   "source": [
    "import pandas as pd\n",
    "import numpy as np\n",
    "from sklearn.linear_model import ElasticNet, LinearRegression\n",
    "from sklearn.model_selection import GridSearchCV\n",
    "from sklearn.metrics import mean_squared_error"
   ]
  },
  {
   "cell_type": "code",
   "execution_count": 12,
   "metadata": {},
   "outputs": [],
   "source": [
    "df = pd.read_csv(\"Data/rebuild_features.csv\")"
   ]
  },
  {
   "cell_type": "code",
   "execution_count": 13,
   "metadata": {},
   "outputs": [
    {
     "data": {
      "text/plain": [
       "array(['cell_key', 'minimum_dQ_100_10', 'variance_dQ_100_10',\n",
       "       'skewness_dQ_100_10', 'kurtosis_dQ_100_10', 'slope_lin_fit_2_100',\n",
       "       'intercept_lin_fit_2_100', 'discharge_capacity_2',\n",
       "       'diff_discharge_capacity_max_2', 'mean_charge_time', 'minimun_IR',\n",
       "       'diff_IR_100_2', 'cycle_life'], dtype=object)"
      ]
     },
     "execution_count": 13,
     "metadata": {},
     "output_type": "execute_result"
    }
   ],
   "source": [
    "df.columns.values"
   ]
  },
  {
   "cell_type": "code",
   "execution_count": 49,
   "metadata": {},
   "outputs": [
    {
     "data": {
      "text/html": [
       "<div>\n",
       "<style scoped>\n",
       "    .dataframe tbody tr th:only-of-type {\n",
       "        vertical-align: middle;\n",
       "    }\n",
       "\n",
       "    .dataframe tbody tr th {\n",
       "        vertical-align: top;\n",
       "    }\n",
       "\n",
       "    .dataframe thead th {\n",
       "        text-align: right;\n",
       "    }\n",
       "</style>\n",
       "<table border=\"1\" class=\"dataframe\">\n",
       "  <thead>\n",
       "    <tr style=\"text-align: right;\">\n",
       "      <th></th>\n",
       "      <th>minimum_dQ_100_10</th>\n",
       "      <th>variance_dQ_100_10</th>\n",
       "      <th>skewness_dQ_100_10</th>\n",
       "      <th>kurtosis_dQ_100_10</th>\n",
       "      <th>slope_lin_fit_2_100</th>\n",
       "      <th>intercept_lin_fit_2_100</th>\n",
       "      <th>discharge_capacity_2</th>\n",
       "      <th>diff_discharge_capacity_max_2</th>\n",
       "      <th>mean_charge_time</th>\n",
       "      <th>minimun_IR</th>\n",
       "      <th>diff_IR_100_2</th>\n",
       "      <th>cycle_life</th>\n",
       "    </tr>\n",
       "  </thead>\n",
       "  <tbody>\n",
       "    <tr>\n",
       "      <th>count</th>\n",
       "      <td>124.000000</td>\n",
       "      <td>124.000000</td>\n",
       "      <td>124.000000</td>\n",
       "      <td>124.000000</td>\n",
       "      <td>124.000000</td>\n",
       "      <td>124.000000</td>\n",
       "      <td>124.000000</td>\n",
       "      <td>124.000000</td>\n",
       "      <td>124.000000</td>\n",
       "      <td>124.000000</td>\n",
       "      <td>124.000000</td>\n",
       "      <td>124.000000</td>\n",
       "    </tr>\n",
       "    <tr>\n",
       "      <th>mean</th>\n",
       "      <td>-3.309622</td>\n",
       "      <td>-8.856155</td>\n",
       "      <td>-1.798408</td>\n",
       "      <td>0.181338</td>\n",
       "      <td>-0.000033</td>\n",
       "      <td>1.075610</td>\n",
       "      <td>1.071192</td>\n",
       "      <td>0.023001</td>\n",
       "      <td>10.432973</td>\n",
       "      <td>0.014917</td>\n",
       "      <td>-0.000179</td>\n",
       "      <td>798.387097</td>\n",
       "    </tr>\n",
       "    <tr>\n",
       "      <th>std</th>\n",
       "      <td>0.505783</td>\n",
       "      <td>0.937557</td>\n",
       "      <td>1.113668</td>\n",
       "      <td>0.209144</td>\n",
       "      <td>0.000116</td>\n",
       "      <td>0.009705</td>\n",
       "      <td>0.009061</td>\n",
       "      <td>0.167760</td>\n",
       "      <td>0.744873</td>\n",
       "      <td>0.004534</td>\n",
       "      <td>0.000436</td>\n",
       "      <td>372.742979</td>\n",
       "    </tr>\n",
       "    <tr>\n",
       "      <th>min</th>\n",
       "      <td>-5.142544</td>\n",
       "      <td>-11.825562</td>\n",
       "      <td>-7.669214</td>\n",
       "      <td>-0.651928</td>\n",
       "      <td>-0.001092</td>\n",
       "      <td>1.049389</td>\n",
       "      <td>1.042137</td>\n",
       "      <td>0.000459</td>\n",
       "      <td>8.964706</td>\n",
       "      <td>0.000000</td>\n",
       "      <td>-0.003992</td>\n",
       "      <td>148.000000</td>\n",
       "    </tr>\n",
       "    <tr>\n",
       "      <th>25%</th>\n",
       "      <td>-3.615959</td>\n",
       "      <td>-9.463472</td>\n",
       "      <td>-2.307431</td>\n",
       "      <td>0.121294</td>\n",
       "      <td>-0.000020</td>\n",
       "      <td>1.070539</td>\n",
       "      <td>1.066903</td>\n",
       "      <td>0.003423</td>\n",
       "      <td>10.043770</td>\n",
       "      <td>0.015301</td>\n",
       "      <td>-0.000230</td>\n",
       "      <td>498.750000</td>\n",
       "    </tr>\n",
       "    <tr>\n",
       "      <th>50%</th>\n",
       "      <td>-3.233402</td>\n",
       "      <td>-8.710854</td>\n",
       "      <td>-1.537733</td>\n",
       "      <td>0.207657</td>\n",
       "      <td>-0.000006</td>\n",
       "      <td>1.076238</td>\n",
       "      <td>1.071413</td>\n",
       "      <td>0.004417</td>\n",
       "      <td>10.130237</td>\n",
       "      <td>0.016210</td>\n",
       "      <td>-0.000075</td>\n",
       "      <td>736.500000</td>\n",
       "    </tr>\n",
       "    <tr>\n",
       "      <th>75%</th>\n",
       "      <td>-2.950006</td>\n",
       "      <td>-8.218369</td>\n",
       "      <td>-1.134104</td>\n",
       "      <td>0.247337</td>\n",
       "      <td>0.000005</td>\n",
       "      <td>1.082333</td>\n",
       "      <td>1.077769</td>\n",
       "      <td>0.005953</td>\n",
       "      <td>10.329087</td>\n",
       "      <td>0.016868</td>\n",
       "      <td>-0.000003</td>\n",
       "      <td>946.500000</td>\n",
       "    </tr>\n",
       "    <tr>\n",
       "      <th>max</th>\n",
       "      <td>-1.984958</td>\n",
       "      <td>-6.296653</td>\n",
       "      <td>0.648827</td>\n",
       "      <td>1.474969</td>\n",
       "      <td>0.000035</td>\n",
       "      <td>1.101465</td>\n",
       "      <td>1.094639</td>\n",
       "      <td>1.817914</td>\n",
       "      <td>13.409150</td>\n",
       "      <td>0.020022</td>\n",
       "      <td>0.000438</td>\n",
       "      <td>2237.000000</td>\n",
       "    </tr>\n",
       "  </tbody>\n",
       "</table>\n",
       "</div>"
      ],
      "text/plain": [
       "       minimum_dQ_100_10  variance_dQ_100_10  skewness_dQ_100_10  \\\n",
       "count         124.000000          124.000000          124.000000   \n",
       "mean           -3.309622           -8.856155           -1.798408   \n",
       "std             0.505783            0.937557            1.113668   \n",
       "min            -5.142544          -11.825562           -7.669214   \n",
       "25%            -3.615959           -9.463472           -2.307431   \n",
       "50%            -3.233402           -8.710854           -1.537733   \n",
       "75%            -2.950006           -8.218369           -1.134104   \n",
       "max            -1.984958           -6.296653            0.648827   \n",
       "\n",
       "       kurtosis_dQ_100_10  slope_lin_fit_2_100  intercept_lin_fit_2_100  \\\n",
       "count          124.000000           124.000000               124.000000   \n",
       "mean             0.181338            -0.000033                 1.075610   \n",
       "std              0.209144             0.000116                 0.009705   \n",
       "min             -0.651928            -0.001092                 1.049389   \n",
       "25%              0.121294            -0.000020                 1.070539   \n",
       "50%              0.207657            -0.000006                 1.076238   \n",
       "75%              0.247337             0.000005                 1.082333   \n",
       "max              1.474969             0.000035                 1.101465   \n",
       "\n",
       "       discharge_capacity_2  diff_discharge_capacity_max_2  mean_charge_time  \\\n",
       "count            124.000000                     124.000000        124.000000   \n",
       "mean               1.071192                       0.023001         10.432973   \n",
       "std                0.009061                       0.167760          0.744873   \n",
       "min                1.042137                       0.000459          8.964706   \n",
       "25%                1.066903                       0.003423         10.043770   \n",
       "50%                1.071413                       0.004417         10.130237   \n",
       "75%                1.077769                       0.005953         10.329087   \n",
       "max                1.094639                       1.817914         13.409150   \n",
       "\n",
       "       minimun_IR  diff_IR_100_2   cycle_life  \n",
       "count  124.000000     124.000000   124.000000  \n",
       "mean     0.014917      -0.000179   798.387097  \n",
       "std      0.004534       0.000436   372.742979  \n",
       "min      0.000000      -0.003992   148.000000  \n",
       "25%      0.015301      -0.000230   498.750000  \n",
       "50%      0.016210      -0.000075   736.500000  \n",
       "75%      0.016868      -0.000003   946.500000  \n",
       "max      0.020022       0.000438  2237.000000  "
      ]
     },
     "execution_count": 49,
     "metadata": {},
     "output_type": "execute_result"
    }
   ],
   "source": [
    "df.describe()"
   ]
  },
  {
   "cell_type": "code",
   "execution_count": 35,
   "metadata": {},
   "outputs": [],
   "source": [
    "numBat1 = len([i for i in list(df.cell_key) if i[1] == \"1\"])\n",
    "numBat2 = len([i for i in list(df.cell_key) if i[1] == \"2\"])\n",
    "numBat3 = len([i for i in list(df.cell_key) if i[1] == \"3\"])\n",
    "numBat = sum((numBat1,numBat2,numBat3))"
   ]
  },
  {
   "cell_type": "code",
   "execution_count": 36,
   "metadata": {},
   "outputs": [],
   "source": [
    "test_ind = np.hstack((np.arange(0,(numBat1+numBat2),2),83))\n",
    "train_ind = np.arange(1,(numBat1+numBat2-1),2)\n",
    "secondary_test_ind = np.arange(numBat-numBat3,numBat);"
   ]
  },
  {
   "cell_type": "code",
   "execution_count": 37,
   "metadata": {},
   "outputs": [],
   "source": [
    "varmod_features = [\"variance_dQ_100_10\"]\n",
    "dismod_features = [\n",
    "    \"variance_dQ_100_10\",\n",
    "    \"minimum_dQ_100_10\",\n",
    "    \"skewness_dQ_100_10\",\n",
    "    \"kurtosis_dQ_100_10\",\n",
    "    \"discharge_capacity_2\",\n",
    "    \"diff_discharge_capacity_max_2\",\n",
    "]\n",
    "fullmod_features = [\n",
    "    \"minimum_dQ_100_10\",\n",
    "    \"variance_dQ_100_10\",\n",
    "    \"slope_lin_fit_2_100\",\n",
    "    \"intercept_lin_fit_2_100\",\n",
    "    \"discharge_capacity_2\",\n",
    "    \"mean_charge_time\",\n",
    "    \"minimun_IR\",\n",
    "    \"diff_IR_100_2\",\n",
    "]\n",
    "target = [\"cycle_life\"]"
   ]
  },
  {
   "cell_type": "code",
   "execution_count": 38,
   "metadata": {},
   "outputs": [],
   "source": [
    "def get_split(data, features, split):\n",
    "    X = data.iloc[split,:].loc[:,features]\n",
    "    y = data.iloc[split,:].loc[:,target]\n",
    "    return X, y\n",
    "\n",
    "def eval_model(model, data, splits, features):\n",
    "    rmse = list()\n",
    "    mpe = list()\n",
    "    for split in splits:\n",
    "        X, y = get_split(data, features, split)\n",
    "        pred = model.predict(X)\n",
    "        rmse.append(np.sqrt(mean_squared_error(pred, y)))\n",
    "        mpe.append(float(np.mean(np.abs((y - pred.reshape(-1,1))) / y * 100)))\n",
    "    return rmse, mpe"
   ]
  },
  {
   "cell_type": "markdown",
   "metadata": {},
   "source": [
    "# Variance Model"
   ]
  },
  {
   "cell_type": "code",
   "execution_count": 39,
   "metadata": {},
   "outputs": [
    {
     "name": "stdout",
     "output_type": "stream",
     "text": [
      "Elastic Net: 0.7787713570570227\n",
      "Linear Regression: 0.7796972975344937\n"
     ]
    }
   ],
   "source": [
    "# Train Elastic net model\n",
    "x_train, y_train = get_split(df, varmod_features, train_ind)\n",
    "\n",
    "alphas = np.linspace(0.0001,1,30)\n",
    "parameters = {\n",
    "    \"alpha\": alphas,\n",
    "    \"l1_ratio\": [0.01, 0.25, 0.5, 0.75, 1.]\n",
    "}\n",
    "enet = ElasticNet(random_state=54)\n",
    "regr = GridSearchCV(enet, parameters, cv=4, iid=False)\n",
    "print(\"Elastic Net: %s\" % regr.fit(x_train, y_train).score(x_train, y_train))\n",
    "\n",
    "# because elastic net does not work well with a small alpha,\n",
    "# we also train a linear regression to see if it performs better\n",
    "# > it actually does, so we use lin_reg for the \"Variance model\"\n",
    "lin_reg = LinearRegression()\n",
    "print(\"Linear Regression: %s\" % lin_reg.fit(x_train, y_train).score(x_train, y_train))"
   ]
  },
  {
   "cell_type": "code",
   "execution_count": 40,
   "metadata": {},
   "outputs": [],
   "source": [
    "# get RMSE and MPE to compare with paper results\n",
    "splits = [train_ind, test_ind, secondary_test_ind]\n",
    "varmod_rmse, varmod_mpe = eval_model(lin_reg, df, splits, varmod_features)"
   ]
  },
  {
   "cell_type": "markdown",
   "metadata": {},
   "source": [
    "# Discharge Model"
   ]
  },
  {
   "cell_type": "code",
   "execution_count": 50,
   "metadata": {},
   "outputs": [
    {
     "name": "stdout",
     "output_type": "stream",
     "text": [
      "Elastic Net: 0.846778910849885\n"
     ]
    }
   ],
   "source": [
    "# Train Elastic net model\n",
    "x_train, y_train = get_split(df, dismod_features, train_ind)\n",
    "\n",
    "alphas = np.linspace(0.1,1,20)\n",
    "parameters = {\n",
    "    \"alpha\": alphas,\n",
    "    \"l1_ratio\": [0.01, 0.25, 0.5, 0.75, 1.]\n",
    "}\n",
    "enet = ElasticNet(random_state=54)\n",
    "regr = GridSearchCV(enet, parameters, cv=4, iid=False)\n",
    "print(\"Elastic Net: %s\" % regr.fit(x_train, y_train).score(x_train, y_train))"
   ]
  },
  {
   "cell_type": "code",
   "execution_count": 42,
   "metadata": {},
   "outputs": [],
   "source": [
    "# get RMSE and MPE to compare with paper results\n",
    "splits = [train_ind, test_ind, secondary_test_ind]\n",
    "dismod_rmse, dismod_mpe = eval_model(regr, df, splits, dismod_features)"
   ]
  },
  {
   "cell_type": "markdown",
   "metadata": {},
   "source": [
    "# Full Model"
   ]
  },
  {
   "cell_type": "code",
   "execution_count": 64,
   "metadata": {},
   "outputs": [
    {
     "name": "stderr",
     "output_type": "stream",
     "text": [
      "/home/hannes/anaconda3/envs/dsr/lib/python3.7/site-packages/sklearn/linear_model/coordinate_descent.py:492: ConvergenceWarning: Objective did not converge. You might want to increase the number of iterations. Fitting data with very small alpha may cause precision problems.\n",
      "  ConvergenceWarning)\n",
      "/home/hannes/anaconda3/envs/dsr/lib/python3.7/site-packages/sklearn/linear_model/coordinate_descent.py:492: ConvergenceWarning: Objective did not converge. You might want to increase the number of iterations. Fitting data with very small alpha may cause precision problems.\n",
      "  ConvergenceWarning)\n",
      "/home/hannes/anaconda3/envs/dsr/lib/python3.7/site-packages/sklearn/linear_model/coordinate_descent.py:492: ConvergenceWarning: Objective did not converge. You might want to increase the number of iterations. Fitting data with very small alpha may cause precision problems.\n",
      "  ConvergenceWarning)\n",
      "/home/hannes/anaconda3/envs/dsr/lib/python3.7/site-packages/sklearn/linear_model/coordinate_descent.py:492: ConvergenceWarning: Objective did not converge. You might want to increase the number of iterations. Fitting data with very small alpha may cause precision problems.\n",
      "  ConvergenceWarning)\n",
      "/home/hannes/anaconda3/envs/dsr/lib/python3.7/site-packages/sklearn/linear_model/coordinate_descent.py:492: ConvergenceWarning: Objective did not converge. You might want to increase the number of iterations. Fitting data with very small alpha may cause precision problems.\n",
      "  ConvergenceWarning)\n",
      "/home/hannes/anaconda3/envs/dsr/lib/python3.7/site-packages/sklearn/linear_model/coordinate_descent.py:492: ConvergenceWarning: Objective did not converge. You might want to increase the number of iterations. Fitting data with very small alpha may cause precision problems.\n",
      "  ConvergenceWarning)\n",
      "/home/hannes/anaconda3/envs/dsr/lib/python3.7/site-packages/sklearn/linear_model/coordinate_descent.py:492: ConvergenceWarning: Objective did not converge. You might want to increase the number of iterations. Fitting data with very small alpha may cause precision problems.\n",
      "  ConvergenceWarning)\n",
      "/home/hannes/anaconda3/envs/dsr/lib/python3.7/site-packages/sklearn/linear_model/coordinate_descent.py:492: ConvergenceWarning: Objective did not converge. You might want to increase the number of iterations. Fitting data with very small alpha may cause precision problems.\n",
      "  ConvergenceWarning)\n",
      "/home/hannes/anaconda3/envs/dsr/lib/python3.7/site-packages/sklearn/linear_model/coordinate_descent.py:492: ConvergenceWarning: Objective did not converge. You might want to increase the number of iterations. Fitting data with very small alpha may cause precision problems.\n",
      "  ConvergenceWarning)\n",
      "/home/hannes/anaconda3/envs/dsr/lib/python3.7/site-packages/sklearn/linear_model/coordinate_descent.py:492: ConvergenceWarning: Objective did not converge. You might want to increase the number of iterations. Fitting data with very small alpha may cause precision problems.\n",
      "  ConvergenceWarning)\n",
      "/home/hannes/anaconda3/envs/dsr/lib/python3.7/site-packages/sklearn/linear_model/coordinate_descent.py:492: ConvergenceWarning: Objective did not converge. You might want to increase the number of iterations. Fitting data with very small alpha may cause precision problems.\n",
      "  ConvergenceWarning)\n",
      "/home/hannes/anaconda3/envs/dsr/lib/python3.7/site-packages/sklearn/linear_model/coordinate_descent.py:492: ConvergenceWarning: Objective did not converge. You might want to increase the number of iterations. Fitting data with very small alpha may cause precision problems.\n",
      "  ConvergenceWarning)\n",
      "/home/hannes/anaconda3/envs/dsr/lib/python3.7/site-packages/sklearn/linear_model/coordinate_descent.py:492: ConvergenceWarning: Objective did not converge. You might want to increase the number of iterations. Fitting data with very small alpha may cause precision problems.\n",
      "  ConvergenceWarning)\n",
      "/home/hannes/anaconda3/envs/dsr/lib/python3.7/site-packages/sklearn/linear_model/coordinate_descent.py:492: ConvergenceWarning: Objective did not converge. You might want to increase the number of iterations. Fitting data with very small alpha may cause precision problems.\n",
      "  ConvergenceWarning)\n",
      "/home/hannes/anaconda3/envs/dsr/lib/python3.7/site-packages/sklearn/linear_model/coordinate_descent.py:492: ConvergenceWarning: Objective did not converge. You might want to increase the number of iterations. Fitting data with very small alpha may cause precision problems.\n",
      "  ConvergenceWarning)\n",
      "/home/hannes/anaconda3/envs/dsr/lib/python3.7/site-packages/sklearn/linear_model/coordinate_descent.py:492: ConvergenceWarning: Objective did not converge. You might want to increase the number of iterations. Fitting data with very small alpha may cause precision problems.\n",
      "  ConvergenceWarning)\n",
      "/home/hannes/anaconda3/envs/dsr/lib/python3.7/site-packages/sklearn/linear_model/coordinate_descent.py:492: ConvergenceWarning: Objective did not converge. You might want to increase the number of iterations. Fitting data with very small alpha may cause precision problems.\n",
      "  ConvergenceWarning)\n",
      "/home/hannes/anaconda3/envs/dsr/lib/python3.7/site-packages/sklearn/linear_model/coordinate_descent.py:492: ConvergenceWarning: Objective did not converge. You might want to increase the number of iterations. Fitting data with very small alpha may cause precision problems.\n",
      "  ConvergenceWarning)\n"
     ]
    },
    {
     "name": "stdout",
     "output_type": "stream",
     "text": [
      "Elastic Net: 0.9014261389733059\n"
     ]
    },
    {
     "name": "stderr",
     "output_type": "stream",
     "text": [
      "/home/hannes/anaconda3/envs/dsr/lib/python3.7/site-packages/sklearn/linear_model/coordinate_descent.py:492: ConvergenceWarning: Objective did not converge. You might want to increase the number of iterations. Fitting data with very small alpha may cause precision problems.\n",
      "  ConvergenceWarning)\n"
     ]
    }
   ],
   "source": [
    "# Train Elastic net model\n",
    "x_train, y_train = get_split(df, fullmod_features, train_ind)\n",
    "\n",
    "alphas = np.linspace(0.01,1,20)\n",
    "parameters = {\n",
    "    \"alpha\": alphas,\n",
    "    \"l1_ratio\": [0.001, 0.75, 1.]\n",
    "}\n",
    "enet = ElasticNet(random_state=54)\n",
    "regr = GridSearchCV(enet, parameters, cv=4, iid=False)\n",
    "print(\"Elastic Net: %s\" % regr.fit(x_train, y_train).score(x_train, y_train))"
   ]
  },
  {
   "cell_type": "code",
   "execution_count": 46,
   "metadata": {},
   "outputs": [],
   "source": [
    "# get RMSE and MPE to compare with paper results\n",
    "splits = [train_ind, test_ind, secondary_test_ind]\n",
    "fullmod_rmse, fullmod_mpe = eval_model(regr, df, splits, fullmod_features)"
   ]
  },
  {
   "cell_type": "code",
   "execution_count": 48,
   "metadata": {},
   "outputs": [
    {
     "data": {
      "text/html": [
       "<div>\n",
       "<style scoped>\n",
       "    .dataframe tbody tr th:only-of-type {\n",
       "        vertical-align: middle;\n",
       "    }\n",
       "\n",
       "    .dataframe tbody tr th {\n",
       "        vertical-align: top;\n",
       "    }\n",
       "\n",
       "    .dataframe thead th {\n",
       "        text-align: right;\n",
       "    }\n",
       "</style>\n",
       "<table border=\"1\" class=\"dataframe\">\n",
       "  <thead>\n",
       "    <tr style=\"text-align: right;\">\n",
       "      <th></th>\n",
       "      <th>Model</th>\n",
       "      <th>RMSE - Train</th>\n",
       "      <th>RMSE - Primary test</th>\n",
       "      <th>RMSE - Secondary test</th>\n",
       "      <th>MPE - Train</th>\n",
       "      <th>MPE - Primary test</th>\n",
       "      <th>MPE - Secondary test</th>\n",
       "    </tr>\n",
       "  </thead>\n",
       "  <tbody>\n",
       "    <tr>\n",
       "      <th>0</th>\n",
       "      <td>Variance model</td>\n",
       "      <td>151.665330</td>\n",
       "      <td>166.800507</td>\n",
       "      <td>183.023307</td>\n",
       "      <td>21.615414</td>\n",
       "      <td>22.232938</td>\n",
       "      <td>12.874134</td>\n",
       "    </tr>\n",
       "    <tr>\n",
       "      <th>1</th>\n",
       "      <td>Discharge model</td>\n",
       "      <td>113.783077</td>\n",
       "      <td>8738.153951</td>\n",
       "      <td>256.417806</td>\n",
       "      <td>15.907592</td>\n",
       "      <td>232.395229</td>\n",
       "      <td>18.445284</td>\n",
       "    </tr>\n",
       "    <tr>\n",
       "      <th>2</th>\n",
       "      <td>Full model</td>\n",
       "      <td>101.758980</td>\n",
       "      <td>130.191581</td>\n",
       "      <td>350.201795</td>\n",
       "      <td>13.424826</td>\n",
       "      <td>15.579984</td>\n",
       "      <td>350.201795</td>\n",
       "    </tr>\n",
       "  </tbody>\n",
       "</table>\n",
       "</div>"
      ],
      "text/plain": [
       "             Model  RMSE - Train  RMSE - Primary test  RMSE - Secondary test  \\\n",
       "0   Variance model    151.665330           166.800507             183.023307   \n",
       "1  Discharge model    113.783077          8738.153951             256.417806   \n",
       "2       Full model    101.758980           130.191581             350.201795   \n",
       "\n",
       "   MPE - Train  MPE - Primary test  MPE - Secondary test  \n",
       "0    21.615414           22.232938             12.874134  \n",
       "1    15.907592          232.395229             18.445284  \n",
       "2    13.424826           15.579984            350.201795  "
      ]
     },
     "execution_count": 48,
     "metadata": {},
     "output_type": "execute_result"
    }
   ],
   "source": [
    "df_metrics = pd.DataFrame({\"Model\":[\"Variance model\", \"Discharge model\", \"Full model\"],\n",
    "              \"RMSE - Train\": [varmod_rmse[0],dismod_rmse[0],fullmod_rmse[0]],\n",
    "              \"RMSE - Primary test\": [varmod_rmse[1],dismod_rmse[1],fullmod_rmse[1]],\n",
    "              \"RMSE - Secondary test\": [varmod_rmse[2],dismod_rmse[2],fullmod_rmse[2]],\n",
    "              \"MPE - Train\": [varmod_mpe[0],dismod_mpe[0],fullmod_mpe[0]],\n",
    "              \"MPE - Primary test\": [varmod_mpe[1],dismod_mpe[1],fullmod_mpe[1]],\n",
    "              \"MPE - Secondary test\": [varmod_mpe[2],dismod_mpe[2],fullmod_rmse[2]]})                                                                       \n",
    "df_metrics"
   ]
  },
  {
   "cell_type": "markdown",
   "metadata": {},
   "source": [
    "# Classification Model"
   ]
  },
  {
   "cell_type": "code",
   "execution_count": 51,
   "metadata": {},
   "outputs": [],
   "source": [
    "from sklearn.linear_model import LogisticRegression\n",
    "from sklearn.metrics import accuracy_score"
   ]
  },
  {
   "cell_type": "code",
   "execution_count": 116,
   "metadata": {},
   "outputs": [],
   "source": [
    "# regularized logistic regression\n",
    "# Take the delta between cycles #5 and #4\n",
    "\n",
    "cycle_threshold = 550\n",
    "variances = np.array([])\n",
    "cycle_life = np.array([])\n",
    "cycles = np.array([])\n",
    "for cell in bat_dict.values():\n",
    "    c5 = cell['cycles']['5']\n",
    "    c4 = cell['cycles']['4']\n",
    "    dQ_5_4 = c5['Qdlin'] - c4['Qdlin']\n",
    "    variances = np.append(variances, np.log(np.var(dQ_5_4)))\n",
    "    cycles = np.append(cycles, cell[\"cycle_life\"])\n",
    "    cycle_life = np.append(cycle_life, cell[\"cycle_life\"]>=cycle_threshold)\n",
    "\n",
    "df = pd.DataFrame({\n",
    "            \"Delta_Qd_5_4_log_variance\": variances, \n",
    "            \"cycles\": cycles,\n",
    "            \"cycle_life\": cycle_life\n",
    "})"
   ]
  },
  {
   "cell_type": "code",
   "execution_count": 117,
   "metadata": {},
   "outputs": [],
   "source": [
    "# Define train and two test sets according to paper\n",
    "x_train = df.iloc[train_ind,:-2]\n",
    "y_train = df.iloc[train_ind,-1:]\n",
    "x_test = df.iloc[test_ind,:-2]\n",
    "y_test = df.iloc[test_ind,-1:]\n",
    "x_test_sec = df.iloc[secondary_test_ind,:-2]\n",
    "y_test_sec = df.iloc[secondary_test_ind,-1:]"
   ]
  },
  {
   "cell_type": "code",
   "execution_count": 118,
   "metadata": {},
   "outputs": [
    {
     "data": {
      "text/html": [
       "<div>\n",
       "<style scoped>\n",
       "    .dataframe tbody tr th:only-of-type {\n",
       "        vertical-align: middle;\n",
       "    }\n",
       "\n",
       "    .dataframe tbody tr th {\n",
       "        vertical-align: top;\n",
       "    }\n",
       "\n",
       "    .dataframe thead th {\n",
       "        text-align: right;\n",
       "    }\n",
       "</style>\n",
       "<table border=\"1\" class=\"dataframe\">\n",
       "  <thead>\n",
       "    <tr style=\"text-align: right;\">\n",
       "      <th></th>\n",
       "      <th>Delta_Qd_5_4_log_variance</th>\n",
       "      <th>cycles</th>\n",
       "      <th>cycle_life</th>\n",
       "    </tr>\n",
       "  </thead>\n",
       "  <tbody>\n",
       "    <tr>\n",
       "      <th>0</th>\n",
       "      <td>-14.096575</td>\n",
       "      <td>1852.0</td>\n",
       "      <td>1.0</td>\n",
       "    </tr>\n",
       "    <tr>\n",
       "      <th>1</th>\n",
       "      <td>-13.571824</td>\n",
       "      <td>2160.0</td>\n",
       "      <td>1.0</td>\n",
       "    </tr>\n",
       "    <tr>\n",
       "      <th>2</th>\n",
       "      <td>-13.341959</td>\n",
       "      <td>2237.0</td>\n",
       "      <td>1.0</td>\n",
       "    </tr>\n",
       "    <tr>\n",
       "      <th>3</th>\n",
       "      <td>-13.236720</td>\n",
       "      <td>1434.0</td>\n",
       "      <td>1.0</td>\n",
       "    </tr>\n",
       "    <tr>\n",
       "      <th>4</th>\n",
       "      <td>-14.212549</td>\n",
       "      <td>1709.0</td>\n",
       "      <td>1.0</td>\n",
       "    </tr>\n",
       "  </tbody>\n",
       "</table>\n",
       "</div>"
      ],
      "text/plain": [
       "   Delta_Qd_5_4_log_variance  cycles  cycle_life\n",
       "0                 -14.096575  1852.0         1.0\n",
       "1                 -13.571824  2160.0         1.0\n",
       "2                 -13.341959  2237.0         1.0\n",
       "3                 -13.236720  1434.0         1.0\n",
       "4                 -14.212549  1709.0         1.0"
      ]
     },
     "execution_count": 118,
     "metadata": {},
     "output_type": "execute_result"
    }
   ],
   "source": [
    "df.head()"
   ]
  },
  {
   "cell_type": "code",
   "execution_count": 130,
   "metadata": {},
   "outputs": [
    {
     "data": {
      "text/plain": [
       "0.8048780487804879"
      ]
     },
     "execution_count": 130,
     "metadata": {},
     "output_type": "execute_result"
    }
   ],
   "source": [
    "# train \"variance classifier\"\n",
    "parameters = {\"C\": [0.01,0.1,0.5,0.75,1]}\n",
    "logreg = LogisticRegression(solver=\"liblinear\", random_state=54)\n",
    "clf = GridSearchCV(logreg, parameters, cv=4, iid=False)\n",
    "clf.fit(x_train, y_train.values.ravel()).score(x_train, y_train.values.ravel())"
   ]
  },
  {
   "cell_type": "code",
   "execution_count": 143,
   "metadata": {},
   "outputs": [
    {
     "data": {
      "image/png": "[encoded data removed]",
      "text/plain": [
       "<Figure size 720x720 with 4 Axes>"
      ]
     },
     "metadata": {
      "needs_background": "light"
     },
     "output_type": "display_data"
    }
   ],
   "source": [
    "fig, ax = plt.subplots(4, sharex=True, figsize=(10,10))\n",
    "pred_train = clf.predict_proba(x_train)[:,1]\n",
    "ax[0].scatter(x_train, y_train)\n",
    "ax[0].plot(x_train, pred_train, color=\"red\")\n",
    "ax[0].set_title(\"Predictions on train set\")\n",
    "\n",
    "pred_test = clf.predict_proba(x_test)[:,1]\n",
    "ax[1].scatter(x_test, y_test)\n",
    "ax[1].plot(x_test, pred_test, color=\"red\")\n",
    "ax[1].set_title(\"Predictions on test set\")\n",
    "\n",
    "pred_test_sec = clf.predict_proba(x_test_sec)[:,1]\n",
    "ax[2].scatter(x_test_sec, y_test_sec)\n",
    "ax[2].plot(x_test_sec, pred_test_sec, color=\"red\")\n",
    "ax[2].set_title(\"Predictions on secondary test set\")\n",
    "\n",
    "pred_all = clf.predict_proba(df[\"Delta_Qd_5_4_log_variance\"][:,np.newaxis])[:,1]\n",
    "ax[3].scatter(df[\"Delta_Qd_5_4_log_variance\"], df[\"cycle_life\"])\n",
    "ax[3].plot(df[\"Delta_Qd_5_4_log_variance\"], pred_all, color=\"red\")\n",
    "ax[3].set_title(\"Predictions on all batteries\")\n",
    "plt.show()"
   ]
  },
  {
   "cell_type": "code",
   "execution_count": 55,
   "metadata": {},
   "outputs": [],
   "source": [
    "varclf_acc_train = accuracy_score(clf.predict(x_train), y_train.values.ravel())\n",
    "varclf_acc_test = accuracy_score(clf.predict(x_test), y_test.values.ravel())\n",
    "varclf_acc_test_sec = accuracy_score(clf.predict(x_test_sec), y_test_sec.values.ravel())"
   ]
  },
  {
   "cell_type": "code",
   "execution_count": 56,
   "metadata": {},
   "outputs": [
    {
     "data": {
      "text/html": [
       "<div>\n",
       "<style scoped>\n",
       "    .dataframe tbody tr th:only-of-type {\n",
       "        vertical-align: middle;\n",
       "    }\n",
       "\n",
       "    .dataframe tbody tr th {\n",
       "        vertical-align: top;\n",
       "    }\n",
       "\n",
       "    .dataframe thead th {\n",
       "        text-align: right;\n",
       "    }\n",
       "</style>\n",
       "<table border=\"1\" class=\"dataframe\">\n",
       "  <thead>\n",
       "    <tr style=\"text-align: right;\">\n",
       "      <th></th>\n",
       "      <th>Classifier</th>\n",
       "      <th>Acc - Train</th>\n",
       "      <th>Acc - Primary test</th>\n",
       "      <th>Acc - Secondary test</th>\n",
       "    </tr>\n",
       "  </thead>\n",
       "  <tbody>\n",
       "    <tr>\n",
       "      <th>0</th>\n",
       "      <td>Variance classifier</td>\n",
       "      <td>0.804878</td>\n",
       "      <td>0.767442</td>\n",
       "      <td>0.95</td>\n",
       "    </tr>\n",
       "    <tr>\n",
       "      <th>1</th>\n",
       "      <td>Full classifier</td>\n",
       "      <td>0.000000</td>\n",
       "      <td>0.000000</td>\n",
       "      <td>0.00</td>\n",
       "    </tr>\n",
       "  </tbody>\n",
       "</table>\n",
       "</div>"
      ],
      "text/plain": [
       "            Classifier  Acc - Train  Acc - Primary test  Acc - Secondary test\n",
       "0  Variance classifier     0.804878            0.767442                  0.95\n",
       "1      Full classifier     0.000000            0.000000                  0.00"
      ]
     },
     "execution_count": 56,
     "metadata": {},
     "output_type": "execute_result"
    }
   ],
   "source": [
    "df_metrics = pd.DataFrame({\"Classifier\":[\"Variance classifier\", \"Full classifier\"],\n",
    "              \"Acc - Train\": [varclf_acc_train,0],\n",
    "              \"Acc - Primary test\": [varclf_acc_test,0],\n",
    "              \"Acc - Secondary test\": [varclf_acc_test_sec,0]})                                  \n",
    "df_metrics"
   ]
  },
  {
   "cell_type": "code",
   "execution_count": 47,
   "metadata": {},
   "outputs": [
    {
     "ename": "NameError",
     "evalue": "name 'plt' is not defined",
     "output_type": "error",
     "traceback": [
      "\u001b[0;31m---------------------------------------------------------------------------\u001b[0m",
      "\u001b[0;31mNameError\u001b[0m                                 Traceback (most recent call last)",
      "\u001b[0;32m<ipython-input-47-fff7888ee4da>\u001b[0m in \u001b[0;36m<module>\u001b[0;34m\u001b[0m\n\u001b[1;32m      1\u001b[0m \u001b[0;31m# plotting the Variance model, to get an intuition of of how the scores are computed\u001b[0m\u001b[0;34m\u001b[0m\u001b[0;34m\u001b[0m\u001b[0;34m\u001b[0m\u001b[0m\n\u001b[0;32m----> 2\u001b[0;31m \u001b[0mfig\u001b[0m\u001b[0;34m,\u001b[0m \u001b[0max\u001b[0m \u001b[0;34m=\u001b[0m \u001b[0mplt\u001b[0m\u001b[0;34m.\u001b[0m\u001b[0msubplots\u001b[0m\u001b[0;34m(\u001b[0m\u001b[0;36m4\u001b[0m\u001b[0;34m,\u001b[0m \u001b[0msharex\u001b[0m\u001b[0;34m=\u001b[0m\u001b[0;32mTrue\u001b[0m\u001b[0;34m,\u001b[0m \u001b[0mfigsize\u001b[0m\u001b[0;34m=\u001b[0m\u001b[0;34m(\u001b[0m\u001b[0;36m10\u001b[0m\u001b[0;34m,\u001b[0m\u001b[0;36m10\u001b[0m\u001b[0;34m)\u001b[0m\u001b[0;34m)\u001b[0m\u001b[0;34m\u001b[0m\u001b[0;34m\u001b[0m\u001b[0m\n\u001b[0m\u001b[1;32m      3\u001b[0m \u001b[0mpred_train\u001b[0m \u001b[0;34m=\u001b[0m \u001b[0mlin_reg\u001b[0m\u001b[0;34m.\u001b[0m\u001b[0mpredict\u001b[0m\u001b[0;34m(\u001b[0m\u001b[0mx_train\u001b[0m\u001b[0;34m)\u001b[0m\u001b[0;34m\u001b[0m\u001b[0;34m\u001b[0m\u001b[0m\n\u001b[1;32m      4\u001b[0m \u001b[0max\u001b[0m\u001b[0;34m[\u001b[0m\u001b[0;36m0\u001b[0m\u001b[0;34m]\u001b[0m\u001b[0;34m.\u001b[0m\u001b[0mscatter\u001b[0m\u001b[0;34m(\u001b[0m\u001b[0mx_train\u001b[0m\u001b[0;34m,\u001b[0m \u001b[0my_train\u001b[0m\u001b[0;34m)\u001b[0m\u001b[0;34m\u001b[0m\u001b[0;34m\u001b[0m\u001b[0m\n\u001b[1;32m      5\u001b[0m \u001b[0max\u001b[0m\u001b[0;34m[\u001b[0m\u001b[0;36m0\u001b[0m\u001b[0;34m]\u001b[0m\u001b[0;34m.\u001b[0m\u001b[0mplot\u001b[0m\u001b[0;34m(\u001b[0m\u001b[0mx_train\u001b[0m\u001b[0;34m,\u001b[0m \u001b[0mpred_train\u001b[0m\u001b[0;34m,\u001b[0m \u001b[0mcolor\u001b[0m\u001b[0;34m=\u001b[0m\u001b[0;34m\"red\"\u001b[0m\u001b[0;34m)\u001b[0m\u001b[0;34m\u001b[0m\u001b[0;34m\u001b[0m\u001b[0m\n",
      "\u001b[0;31mNameError\u001b[0m: name 'plt' is not defined"
     ]
    }
   ],
   "source": [
    "# plotting the Variance model, to get an intuition of of how the scores are computed\n",
    "fig, ax = plt.subplots(4, sharex=True, figsize=(10,10))\n",
    "pred_train = lin_reg.predict(x_train)\n",
    "ax[0].scatter(x_train, y_train)\n",
    "ax[0].plot(x_train, pred_train, color=\"red\")\n",
    "ax[0].set_title(\"Predictions on train set\")\n",
    "pred_test = lin_reg.predict(x_test)\n",
    "ax[1].scatter(x_test, y_test)\n",
    "ax[1].plot(x_test, pred_test, color=\"red\")\n",
    "ax[1].set_title(\"Predictions on test set\")\n",
    "pred_test_sec = lin_reg.predict(x_test_sec)\n",
    "ax[2].scatter(x_test_sec, y_test_sec)\n",
    "ax[2].plot(x_test_sec, pred_test_sec, color=\"red\")\n",
    "ax[2].set_title(\"Predictions on secondary test set\")\n",
    "pred_all = lin_reg.predict(df.loc[:,varmod_features])\n",
    "ax[3].scatter(df.loc[:,varmod_features], df.loc[:,target])\n",
    "ax[3].plot(df.loc[:,varmod_features], pred_all, color=\"red\")\n",
    "ax[3].set_title(\"Predictions on all batteries\")\n",
    "plt.show()"
   ]
  }
 ],
 "metadata": {
  "kernelspec": {
   "display_name": "Python 3",
   "language": "python",
   "name": "python3"
  },
  "language_info": {
   "codemirror_mode": {
    "name": "ipython",
    "version": 3
   },
   "file_extension": ".py",
   "mimetype": "text/x-python",
   "name": "python",
   "nbconvert_exporter": "python",
   "pygments_lexer": "ipython3",
   "version": "3.7.3"
  }
 },
 "nbformat": 4,
 "nbformat_minor": 2
}
