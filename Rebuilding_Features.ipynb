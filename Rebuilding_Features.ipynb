{
 "cells": [
  {
   "cell_type": "markdown",
   "metadata": {},
   "source": [
    "# All used features for the three regression model implementations:\n",
    "\n",
    "1. delta_Q<sub>100-10</sub>(V)\n",
    "    - Minimum\n",
    "    - Vairance\n",
    "    - Skewness\n",
    "    - Kurtosis\n",
    "    \n",
    "    \n",
    "2. Discharge capacity fade curve features\n",
    "    - Slope of the linear fit to the capacity fade curve, cycles 2 to 100\n",
    "    - Intercept of the linear fit to capavity face curve, cycles 2 to 100\n",
    "    - Discharge capacity, cycle 2\n",
    "    - Difference between max discharge capacity and cycle 2\n",
    "    \n",
    "    \n",
    "3. Other features\n",
    "    - Average charge time, first 5 cycles\n",
    "    - Integral of temperature over time, cycles 2 to 100\n",
    "    - Minimum internal resistance, difference between cycle 100 and cycle 2\n",
    "    \n",
    "    \n",
    "4. Multivariate discharge curves features\n",
    "    - Slope of capacity fade curve, cycles 2 to 100/300\n",
    "    - Intercept of the linear fit to capacity fade curve, cycles 2 to 100/300\n",
    "    - Slope of capacity fade curve, cycles 91 to 100 or 291 to 300\n",
    "    - Intercept of the linear fit to the capacity fade curve, cycles 91 to 100 or 291 to 300\n",
    "    - Discharge capacity, cycle 2\n",
    "    - Max discharge capacity – discharge capacity, cycle 2\n",
    "    - Discharge capacity, cycle 100/300"
   ]
  },
  {
   "cell_type": "code",
   "execution_count": null,
   "metadata": {},
   "outputs": [],
   "source": [
    "# Replicating Load Data logic\n",
    "\n",
    "import numpy as np\n",
    "import pandas as pd\n",
    "from scipy.stats import skew, kurtosis\n",
    "import matplotlib.pyplot as plt\n",
    "import pickle\n",
    "from pathlib import Path"
   ]
  },
  {
   "cell_type": "code",
   "execution_count": null,
   "metadata": {},
   "outputs": [],
   "source": [
    "path1 = Path(\"Data/batch1.pkl\")\n",
    "batch1 = pickle.load(open(path1, 'rb'))\n",
    "\n",
    "#remove batteries that do not reach 80% capacity\n",
    "del batch1['b1c8']\n",
    "del batch1['b1c10']\n",
    "del batch1['b1c12']\n",
    "del batch1['b1c13']\n",
    "del batch1['b1c22']\n",
    "\n",
    "numBat1 = len(batch1.keys())\n",
    "numBat1"
   ]
  },
  {
   "cell_type": "code",
   "execution_count": null,
   "metadata": {},
   "outputs": [],
   "source": [
    "features_df = pd.DataFrame()"
   ]
  },
  {
   "cell_type": "markdown",
   "metadata": {},
   "source": [
    "### 1. delta_Q<sub>100-10</sub>(V)"
   ]
  },
  {
   "cell_type": "code",
   "execution_count": null,
   "metadata": {},
   "outputs": [],
   "source": [
    "minimum_dQ_100_10 = np.zeros(len(batch1.keys()))\n",
    "variance_dQ_100_10 = np.zeros(len(batch1.keys()))\n",
    "skewness_dQ_100_10 = np.zeros(len(batch1.keys()))\n",
    "kurtosis_dQ_100_10 = np.zeros(len(batch1.keys()))\n",
    "\n",
    "for i, cell in enumerate(batch1.values()):\n",
    "    c10 = cell['cycles']['10']\n",
    "    c100 = cell['cycles']['100']\n",
    "    dQ_100_10 = c100['Qdlin'] - c10['Qdlin']\n",
    "    \n",
    "    minimum_dQ_100_10[i] = np.log(np.abs(np.min(dQ_100_10)))\n",
    "    variance_dQ_100_10[i] = np.log(np.var(dQ_100_10))\n",
    "    skewness_dQ_100_10[i] = np.log(np.abs(skew(dQ_100_10)))\n",
    "    kurtosis_dQ_100_10[i] = np.log(np.abs(kurtosis(dQ_100_10)))\n",
    "    \n",
    "df = pd.DataFrame({\n",
    "    \"minimum_dQ_100_10\": minimum_dQ_100_10, \n",
    "    \"variance_dQ_100_10\": variance_dQ_100_10,\n",
    "    \"skewness_dQ_100_10\": skewness_dQ_100_10,\n",
    "    \"kurtosis_dQ_100_10\": kurtosis_dQ_100_10\n",
    "})\n",
    "\n",
    "df.head()"
   ]
  },
  {
   "cell_type": "code",
   "execution_count": null,
   "metadata": {},
   "outputs": [],
   "source": []
  }
 ],
 "metadata": {
  "kernelspec": {
   "display_name": "Python 3",
   "language": "python",
   "name": "python3"
  },
  "language_info": {
   "codemirror_mode": {
    "name": "ipython",
    "version": 3
   },
   "file_extension": ".py",
   "mimetype": "text/x-python",
   "name": "python",
   "nbconvert_exporter": "python",
   "pygments_lexer": "ipython3",
   "version": "3.6.8"
  }
 },
 "nbformat": 4,
 "nbformat_minor": 2
}
