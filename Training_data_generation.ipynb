{
 "cells": [
  {
   "cell_type": "code",
   "execution_count": 15,
   "metadata": {},
   "outputs": [],
   "source": [
    "import numpy as np\n",
    "import pickle\n",
    "from pathlib import Path"
   ]
  },
  {
   "cell_type": "markdown",
   "metadata": {},
   "source": [
    "<b>Data format</b><br>\n",
    "1 Row = 1 Cycle<br>\n",
    "Each cycle so far has:\n",
    " - Qdlin (1000,1)\n",
    " - Tdlin (1000,1)\n",
    " - Cdlin (1000,1)\n",
    " - discharge_time (1,)\n",
    " - IR (1,)\n",
    " - remaining_cycle_life (1,)"
   ]
  },
  {
   "cell_type": "code",
   "execution_count": 16,
   "metadata": {},
   "outputs": [],
   "source": [
    "# only taking batch1 for testing\n",
    "\n",
    "path1 = Path(\"Data/batch1.pkl\")\n",
    "batch1 = pickle.load(open(path1, 'rb'))\n",
    "\n",
    "# remove batteries that do not reach 80% capacity\n",
    "del batch1['b1c8']\n",
    "del batch1['b1c10']\n",
    "del batch1['b1c12']\n",
    "del batch1['b1c13']\n",
    "del batch1['b1c22']"
   ]
  },
  {
   "cell_type": "markdown",
   "metadata": {},
   "source": [
    "# Writing to TFrecord"
   ]
  },
  {
   "cell_type": "code",
   "execution_count": 221,
   "metadata": {},
   "outputs": [],
   "source": [
    "import tensorflow as tf\n",
    "from tensorflow.train import FloatList, Int64List\n",
    "from tensorflow.train import Feature, Features, Example\n",
    "import os"
   ]
  },
  {
   "cell_type": "code",
   "execution_count": 275,
   "metadata": {},
   "outputs": [],
   "source": [
    "# see also Hands-On Machine Learning pp.403\n",
    "\n",
    "def get_cycle_features(cell, idx):\n",
    "    cycle_example = Example(\n",
    "        features=Features(\n",
    "            feature={\n",
    "                \"IR\": Feature(float_list=FloatList(value=[batch1[cell][\"summary\"][\"IR\"][idx]])),\n",
    "                \"Qdlin\": Feature(float_list=FloatList(value=batch1[cell][\"cycles\"][str(idx)][\"Qdlin\"])),\n",
    "                \"Tdlin\": Feature(float_list=FloatList(value=batch1[cell][\"cycles\"][str(idx)][\"Tdlin\"])),\n",
    "                \"Remaining_cycles\": Feature(int64_list=Int64List(value=[int(batch1[cell][\"cycle_life\"]-idx)]))\n",
    "            }\n",
    "        )\n",
    "    )\n",
    "    return cycle_example\n",
    "\n",
    "\n",
    "for cell in batch1:\n",
    "    filename = os.path.join(\"Data/tfrecords/\" + cell + \".tfrecord\")\n",
    "    with tf.io.TFRecordWriter(filename) as f:\n",
    "        # the range (1,10 is important to keep the first record out, which is all Nan/0)\n",
    "        for cycle in range(int(batch1[cell][\"cycle_life\"])-1):\n",
    "            cycle_to_write = get_cycle_features(cell, cycle)\n",
    "            f.write(cycle_to_write.SerializeToString())\n",
    "    break # only writes first cell, remove this to write one file for each battery in batch1"
   ]
  },
  {
   "cell_type": "markdown",
   "metadata": {},
   "source": [
    "# Reading from TFrecord"
   ]
  },
  {
   "cell_type": "code",
   "execution_count": 266,
   "metadata": {},
   "outputs": [],
   "source": [
    "from tensorflow.keras.models import Sequential\n",
    "from tensorflow.keras.layers import Activation, Dense, DenseFeatures\n",
    "from tensorflow.feature_column import numeric_column, make_parse_example_spec"
   ]
  },
  {
   "cell_type": "code",
   "execution_count": 276,
   "metadata": {},
   "outputs": [],
   "source": [
    "cell = \"b1c0\"\n",
    "raw_dataset = tf.data.TFRecordDataset([\"Data/tfrecords/\" + cell + \".tfrecord\"]).skip(1)"
   ]
  },
  {
   "cell_type": "code",
   "execution_count": 277,
   "metadata": {},
   "outputs": [],
   "source": [
    "# VERSION 1\n",
    "# reading manually\n",
    "\n",
    "feature_description = {\n",
    "    \"IR\": tf.io.FixedLenFeature(shape=[], dtype=tf.float32),\n",
    "    \"Qdlin\": tf.io.FixedLenFeature(shape=[1000], dtype=tf.float32),\n",
    "    \"Tdlin\": tf.io.FixedLenFeature(shape=[1000], dtype=tf.float32),\n",
    "    \"Remaining_cycles\": tf.io.FixedLenFeature(shape=[], dtype=tf.int64)\n",
    "}\n",
    "    \n",
    "def _parse_features(example_proto):\n",
    "    examples = tf.io.parse_single_example(example_proto, feature_description)\n",
    "    targets = examples.pop(\"Remaining_cycles\")\n",
    "    return examples, targets\n",
    "\n",
    "dataset = raw_dataset.map(_parse_features).batch(5)"
   ]
  },
  {
   "cell_type": "code",
   "execution_count": 278,
   "metadata": {},
   "outputs": [],
   "source": [
    "# VERSION 2\n",
    "# reading with feature columns\n",
    "\n",
    "ir = numeric_column(\"IR\", shape=[])\n",
    "qdlin = numeric_column(\"Qdlin\", shape=[1000])\n",
    "tdlin = numeric_column(\"Tdlin\", shape=[1000])\n",
    "rem_cycles = numeric_column(\"Remaining_cycles\", shape=[], dtype=tf.int64)\n",
    "columns = [ir, qdlin, tdlin, rem_cycles]\n",
    "\n",
    "def _parse_features(example_proto):\n",
    "    examples = tf.io.parse_single_example(example_proto, make_parse_example_spec(columns))\n",
    "    targets = examples.pop(\"Remaining_cycles\")\n",
    "    return examples, targets\n",
    "\n",
    "dataset = raw_dataset.map(_parse_features).batch(5)"
   ]
  },
  {
   "cell_type": "code",
   "execution_count": null,
   "metadata": {},
   "outputs": [],
   "source": [
    "for examples, target in dataset:\n",
    "    print(examples, target)"
   ]
  },
  {
   "cell_type": "markdown",
   "metadata": {},
   "source": [
    "# Feed dataset into model"
   ]
  },
  {
   "cell_type": "code",
   "execution_count": 280,
   "metadata": {},
   "outputs": [],
   "source": [
    "#create model\n",
    "model = Sequential()\n",
    "model.add(DenseFeatures(feature_columns=columns[:-1]))\n",
    "model.add(Dense(36))\n",
    "model.add(Activation(\"relu\"))\n",
    "model.add(Dense(18))\n",
    "model.add(Activation(\"relu\"))\n",
    "model.add(Dense(1))\n",
    "model.add(Activation(\"sigmoid\"))\n",
    "\n",
    "model.compile(optimizer='adam', loss='binary_crossentropy', metrics=['accuracy'])"
   ]
  },
  {
   "cell_type": "code",
   "execution_count": null,
   "metadata": {},
   "outputs": [],
   "source": [
    "model.fit(dataset, epochs=10)"
   ]
  },
  {
   "cell_type": "markdown",
   "metadata": {},
   "source": [
    "If we store each cycle in a row and select cycle batches randomly, how do we avoid, that one batch takes the last few cycles from one cell and the first few of the next? -> Maybe we need to create a TFrecords file for each cell."
   ]
  },
  {
   "cell_type": "markdown",
   "metadata": {},
   "source": [
    "If we set a batch size for training, do we also need as many cycles for any prediction?"
   ]
  },
  {
   "cell_type": "markdown",
   "metadata": {},
   "source": [
    "Do we need to keep the order of detail-level data (e.g. Qdlin, Tdlin)? They are a time-series."
   ]
  },
  {
   "cell_type": "markdown",
   "metadata": {},
   "source": [
    "# MORE STUFF\n",
    "# Example with FeatureList"
   ]
  },
  {
   "cell_type": "code",
   "execution_count": null,
   "metadata": {},
   "outputs": [],
   "source": [
    "import tensorflow as tf\n",
    "from tensorflow.train import FloatList\n",
    "from tensorflow.train import Feature, Features, FeatureList, FeatureLists, SequenceExample"
   ]
  },
  {
   "cell_type": "code",
   "execution_count": null,
   "metadata": {},
   "outputs": [],
   "source": [
    "# Write \n",
    "cell = batch1[\"b1c0\"]\n",
    "\n",
    "ir = Feature(float_list=FloatList(value=[cell[\"summary\"][\"IR\"][1]]))\n",
    "qdlin = Feature(float_list=FloatList(value=cycle[\"Qdlin\"]))\n",
    "tdlin = Feature(float_list=FloatList(value=cycle[\"Tdlin\"]))\n",
    "\n",
    "detail_features = FeatureList(feature=[qdlin, tdlin])\n",
    "\n",
    "cycle_example = SequenceExample(\n",
    "    context = Features(feature={\"IR\":ir}),\n",
    "    feature_lists = FeatureLists(feature_list={\"Details\":detail_features})\n",
    ")\n",
    "\n",
    "with tf.io.TFRecordWriter(\"my_aligned_cycle.tfrecord\") as f:\n",
    "    f.write(cycle_example.SerializeToString())"
   ]
  },
  {
   "cell_type": "code",
   "execution_count": null,
   "metadata": {},
   "outputs": [],
   "source": [
    "# Read\n",
    "context_feature_description = {\n",
    "    \"IR\": tf.io.FixedLenFeature([], tf.float32, default_value=0)\n",
    "}\n",
    "\n",
    "sequence_feature_description = {\n",
    "    \"Details\": tf.io.FixedLenSequenceFeature([1000], tf.float32),\n",
    "}\n",
    "\n",
    "for serialized_example in tf.data.TFRecordDataset([\"my_aligned_cycle.tfrecord\"]):\n",
    "    parsed_example = tf.io.parse_single_sequence_example(\n",
    "        serialized_example,\n",
    "        context_feature_description,\n",
    "        sequence_feature_description\n",
    "    )\n",
    "    print(parsed_example[1][\"Details\"][0])"
   ]
  }
 ],
 "metadata": {
  "kernelspec": {
   "display_name": "Python 3",
   "language": "python",
   "name": "python3"
  },
  "language_info": {
   "codemirror_mode": {
    "name": "ipython",
    "version": 3
   },
   "file_extension": ".py",
   "mimetype": "text/x-python",
   "name": "python",
   "nbconvert_exporter": "python",
   "pygments_lexer": "ipython3",
   "version": "3.7.3"
  }
 },
 "nbformat": 4,
 "nbformat_minor": 2
}
